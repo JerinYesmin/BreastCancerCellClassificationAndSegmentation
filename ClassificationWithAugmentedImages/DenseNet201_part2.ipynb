{
 "cells": [
  {
   "cell_type": "code",
   "execution_count": 1,
   "metadata": {},
   "outputs": [],
   "source": [
    "%matplotlib inline\n",
    "import matplotlib.pyplot as plt\n",
    "import matplotlib.image as mpimg\n",
    "from keras.preprocessing.image import ImageDataGenerator\n",
    "from keras.models import Sequential\n",
    "from keras.optimizers import RMSprop\n",
    "from keras.layers import Conv2D, MaxPooling2D\n",
    "from keras.layers import Activation, Dropout, Flatten, Dense\n",
    "from keras.callbacks import CSVLogger\n",
    "#from livelossplot import PlotLossesKeras\n",
    "import os\n",
    "import numpy as np\n",
    "#from imgaug import augmenters as iaa\n",
    "import cv2\n",
    "import tensorflow as tf \n",
    "from keras import backend as K \n",
    "import gc \n",
    "from keras.applications import ResNet50,MobileNetV2, DenseNet201, InceptionV3, NASNetLarge, InceptionResNetV2, NASNetMobile\n",
    "from keras import layers \n",
    "from keras.optimizers import Adam \n",
    "from functools import partial\n",
    "from sklearn import metrics\n",
    "from collections import Counter\n",
    "import json\n",
    "import itertools\n",
    "from keras.callbacks import Callback, ModelCheckpoint, ReduceLROnPlateau, TensorBoard \n",
    "from keras.layers.pooling import GlobalAveragePooling2D \n",
    "import keras"
   ]
  },
  {
   "cell_type": "code",
   "execution_count": 2,
   "metadata": {},
   "outputs": [
    {
     "data": {
      "text/plain": [
       "((464, 150, 150, 3), (464,))"
      ]
     },
     "execution_count": 2,
     "metadata": {},
     "output_type": "execute_result"
    }
   ],
   "source": [
    "x_train = np.load(\"x_train_200_no_val.npy\")\n",
    "y_train = np.load(\"y_train_200_no_val.npy\")\n",
    "x_train.shape, y_train.shape"
   ]
  },
  {
   "cell_type": "code",
   "execution_count": 3,
   "metadata": {},
   "outputs": [
    {
     "data": {
      "text/plain": [
       "((116, 150, 150, 3), (116,))"
      ]
     },
     "execution_count": 3,
     "metadata": {},
     "output_type": "execute_result"
    }
   ],
   "source": [
    "x_dev = np.load(\"x_test_200_no_val.npy\")\n",
    "y_dev = np.load(\"y_test_200_no_val.npy\")\n",
    "x_dev.shape, y_dev.shape"
   ]
  },
  {
   "cell_type": "code",
   "execution_count": 4,
   "metadata": {},
   "outputs": [
    {
     "name": "stdout",
     "output_type": "stream",
     "text": [
      "Model: \"sequential\"\n",
      "_________________________________________________________________\n",
      "Layer (type)                 Output Shape              Param #   \n",
      "=================================================================\n",
      "densenet201 (Functional)     (None, 4, 4, 1920)        18321984  \n",
      "_________________________________________________________________\n",
      "global_average_pooling2d (Gl (None, 1920)              0         \n",
      "_________________________________________________________________\n",
      "dropout (Dropout)            (None, 1920)              0         \n",
      "_________________________________________________________________\n",
      "batch_normalization (BatchNo (None, 1920)              7680      \n",
      "_________________________________________________________________\n",
      "dense (Dense)                (None, 1)                 1921      \n",
      "=================================================================\n",
      "Total params: 18,331,585\n",
      "Trainable params: 18,098,689\n",
      "Non-trainable params: 232,896\n",
      "_________________________________________________________________\n"
     ]
    }
   ],
   "source": [
    "# Create DenseNet201 Model with Keras library\n",
    "\n",
    "def build_model(backbone, lr=1e-4):\n",
    "    model = Sequential()\n",
    "    model.add(backbone)\n",
    "    model.add(layers.GlobalAveragePooling2D())\n",
    "    model.add(layers.Dropout(0.5))\n",
    "    model.add(layers.BatchNormalization())\n",
    "    model.add(layers.Dense(1, activation='sigmoid'))\n",
    "    \n",
    "    model.compile(\n",
    "        loss='binary_crossentropy',\n",
    "        optimizer=Adam(lr=lr),\n",
    "        metrics=['acc']\n",
    "    )\n",
    "    return model\n",
    "\n",
    "densenet = DenseNet201(\n",
    "    weights='imagenet',\n",
    "    include_top=False,\n",
    "    input_shape=(150,150,3)\n",
    ")\n",
    "\n",
    "\n",
    "\n",
    "\n",
    "\n",
    "\n",
    "model = build_model(densenet ,lr = 1e-4)\n",
    "model.summary()"
   ]
  },
  {
   "cell_type": "code",
   "execution_count": 5,
   "metadata": {},
   "outputs": [
    {
     "name": "stdout",
     "output_type": "stream",
     "text": [
      "Epoch 1/20\n",
      "232/232 [==============================] - 398s 2s/step - loss: 0.7023 - acc: 0.5690 - val_loss: 0.5057 - val_acc: 0.7931\n",
      "Epoch 2/20\n",
      "232/232 [==============================] - 383s 2s/step - loss: 0.5952 - acc: 0.6832 - val_loss: 0.4891 - val_acc: 0.8190\n",
      "Epoch 3/20\n",
      "232/232 [==============================] - 381s 2s/step - loss: 0.5517 - acc: 0.7134 - val_loss: 0.2546 - val_acc: 0.8793\n",
      "Epoch 4/20\n",
      "232/232 [==============================] - 380s 2s/step - loss: 0.5059 - acc: 0.7349 - val_loss: 0.2721 - val_acc: 0.8793\n",
      "Epoch 5/20\n",
      "232/232 [==============================] - 383s 2s/step - loss: 0.4481 - acc: 0.7565 - val_loss: 0.1750 - val_acc: 0.9483\n",
      "Epoch 6/20\n",
      "232/232 [==============================] - 380s 2s/step - loss: 0.4593 - acc: 0.7780 - val_loss: 0.4998 - val_acc: 0.7845\n",
      "Epoch 7/20\n",
      "232/232 [==============================] - 381s 2s/step - loss: 0.4485 - acc: 0.7629 - val_loss: 0.4155 - val_acc: 0.8362\n",
      "Epoch 8/20\n",
      "232/232 [==============================] - 381s 2s/step - loss: 0.4492 - acc: 0.7694 - val_loss: 0.3524 - val_acc: 0.8448\n",
      "Epoch 9/20\n",
      "232/232 [==============================] - 385s 2s/step - loss: 0.4248 - acc: 0.7845 - val_loss: 0.2799 - val_acc: 0.9138\n",
      "Epoch 10/20\n",
      "232/232 [==============================] - 383s 2s/step - loss: 0.5031 - acc: 0.7349 - val_loss: 0.0664 - val_acc: 0.9741\n",
      "Epoch 11/20\n",
      "232/232 [==============================] - 380s 2s/step - loss: 0.4986 - acc: 0.7435 - val_loss: 0.0660 - val_acc: 0.9741\n",
      "Epoch 12/20\n",
      "232/232 [==============================] - 385s 2s/step - loss: 0.4341 - acc: 0.7909 - val_loss: 0.1110 - val_acc: 0.9483\n",
      "Epoch 13/20\n",
      "232/232 [==============================] - 381s 2s/step - loss: 0.4414 - acc: 0.7780 - val_loss: 0.1053 - val_acc: 0.9655\n",
      "Epoch 14/20\n",
      "232/232 [==============================] - 381s 2s/step - loss: 0.4702 - acc: 0.7522 - val_loss: 0.2053 - val_acc: 0.9224\n",
      "Epoch 15/20\n",
      "232/232 [==============================] - 380s 2s/step - loss: 0.4507 - acc: 0.7672 - val_loss: 0.6430 - val_acc: 0.7845\n",
      "Epoch 16/20\n",
      "232/232 [==============================] - 383s 2s/step - loss: 0.5263 - acc: 0.7198 - val_loss: 0.1754 - val_acc: 0.9397\n",
      "Epoch 17/20\n",
      "232/232 [==============================] - 382s 2s/step - loss: 0.4546 - acc: 0.7543 - val_loss: 0.1440 - val_acc: 0.9569\n",
      "Epoch 18/20\n",
      "232/232 [==============================] - 386s 2s/step - loss: 0.4814 - acc: 0.7392 - val_loss: 1.0730 - val_acc: 0.7414\n",
      "Epoch 19/20\n",
      "232/232 [==============================] - 387s 2s/step - loss: 0.4496 - acc: 0.7780 - val_loss: 0.3764 - val_acc: 0.8362\n",
      "Epoch 20/20\n",
      "232/232 [==============================] - 408s 2s/step - loss: 0.4718 - acc: 0.7414 - val_loss: 0.3687 - val_acc: 0.9052\n"
     ]
    },
    {
     "data": {
      "text/plain": [
       "<tensorflow.python.keras.callbacks.History at 0x2203be969a0>"
      ]
     },
     "execution_count": 5,
     "metadata": {},
     "output_type": "execute_result"
    }
   ],
   "source": [
    "model.fit(x=x_train, y=y_train, validation_data = (x_dev,y_dev), epochs=20, batch_size=2)"
   ]
  },
  {
   "cell_type": "code",
   "execution_count": 15,
   "metadata": {},
   "outputs": [
    {
     "name": "stdout",
     "output_type": "stream",
     "text": [
      "Epoch 1/40\n",
      "23/23 [==============================] - 41s 2s/step - loss: 0.3974 - acc: 0.8043 - val_loss: 0.4851 - val_acc: 0.7500\n",
      "Epoch 2/40\n",
      "23/23 [==============================] - 42s 2s/step - loss: 0.4350 - acc: 0.8261 - val_loss: 0.4138 - val_acc: 0.8333\n",
      "Epoch 3/40\n",
      "23/23 [==============================] - 41s 2s/step - loss: 0.4016 - acc: 0.8478 - val_loss: 0.4944 - val_acc: 0.8333\n",
      "Epoch 4/40\n",
      "23/23 [==============================] - 40s 2s/step - loss: 0.6565 - acc: 0.7174 - val_loss: 0.4047 - val_acc: 0.7500\n",
      "Epoch 5/40\n",
      "23/23 [==============================] - 41s 2s/step - loss: 0.4144 - acc: 0.8043 - val_loss: 0.4379 - val_acc: 0.7500\n",
      "Epoch 6/40\n",
      "23/23 [==============================] - 41s 2s/step - loss: 0.2998 - acc: 0.8478 - val_loss: 0.3721 - val_acc: 0.8333\n",
      "Epoch 7/40\n",
      "23/23 [==============================] - 40s 2s/step - loss: 0.3333 - acc: 0.8261 - val_loss: 0.4269 - val_acc: 0.8333\n",
      "Epoch 8/40\n",
      "23/23 [==============================] - 40s 2s/step - loss: 0.3541 - acc: 0.8261 - val_loss: 0.6247 - val_acc: 0.6667\n",
      "Epoch 9/40\n",
      "23/23 [==============================] - 41s 2s/step - loss: 0.3542 - acc: 0.8261 - val_loss: 0.7556 - val_acc: 0.7500\n",
      "Epoch 10/40\n",
      "23/23 [==============================] - 41s 2s/step - loss: 0.3848 - acc: 0.8478 - val_loss: 0.6769 - val_acc: 0.7500\n",
      "Epoch 11/40\n",
      "23/23 [==============================] - 42s 2s/step - loss: 0.3587 - acc: 0.8043 - val_loss: 0.4771 - val_acc: 0.8333\n",
      "Epoch 12/40\n",
      "23/23 [==============================] - 41s 2s/step - loss: 0.5196 - acc: 0.6957 - val_loss: 0.4022 - val_acc: 0.8333\n",
      "Epoch 13/40\n",
      "23/23 [==============================] - 41s 2s/step - loss: 0.4562 - acc: 0.7609 - val_loss: 0.5251 - val_acc: 0.7500\n",
      "Epoch 14/40\n",
      "23/23 [==============================] - 41s 2s/step - loss: 0.4477 - acc: 0.8478 - val_loss: 0.7200 - val_acc: 0.6667\n",
      "Epoch 15/40\n",
      "23/23 [==============================] - 42s 2s/step - loss: 0.3790 - acc: 0.8478 - val_loss: 0.5205 - val_acc: 0.8333\n",
      "Epoch 16/40\n",
      "23/23 [==============================] - 41s 2s/step - loss: 0.2657 - acc: 0.9130 - val_loss: 0.5505 - val_acc: 0.7500\n",
      "Epoch 17/40\n",
      "23/23 [==============================] - 40s 2s/step - loss: 0.2692 - acc: 0.9130 - val_loss: 0.4031 - val_acc: 0.7500\n",
      "Epoch 18/40\n",
      "23/23 [==============================] - 41s 2s/step - loss: 0.3009 - acc: 0.8913 - val_loss: 0.3554 - val_acc: 0.7500\n",
      "Epoch 19/40\n",
      "23/23 [==============================] - 41s 2s/step - loss: 0.3614 - acc: 0.8043 - val_loss: 0.4237 - val_acc: 0.7500\n",
      "Epoch 20/40\n",
      "23/23 [==============================] - 40s 2s/step - loss: 0.4269 - acc: 0.8043 - val_loss: 0.4611 - val_acc: 0.7500\n",
      "Epoch 21/40\n",
      "23/23 [==============================] - 41s 2s/step - loss: 0.3504 - acc: 0.8261 - val_loss: 0.3650 - val_acc: 0.9167\n",
      "Epoch 22/40\n",
      "23/23 [==============================] - 41s 2s/step - loss: 0.4220 - acc: 0.7826 - val_loss: 0.4442 - val_acc: 0.8333\n",
      "Epoch 23/40\n",
      "23/23 [==============================] - 41s 2s/step - loss: 0.4597 - acc: 0.7391 - val_loss: 0.4704 - val_acc: 0.8333\n",
      "Epoch 24/40\n",
      "23/23 [==============================] - 43s 2s/step - loss: 0.4778 - acc: 0.8478 - val_loss: 0.5433 - val_acc: 0.7500\n",
      "Epoch 25/40\n",
      "23/23 [==============================] - 43s 2s/step - loss: 0.3479 - acc: 0.8261 - val_loss: 0.4915 - val_acc: 0.7500\n",
      "Epoch 26/40\n",
      "23/23 [==============================] - 41s 2s/step - loss: 0.3416 - acc: 0.8043 - val_loss: 0.4408 - val_acc: 0.7500\n",
      "Epoch 27/40\n",
      "23/23 [==============================] - 41s 2s/step - loss: 0.3640 - acc: 0.8043 - val_loss: 0.6323 - val_acc: 0.7500\n",
      "Epoch 28/40\n",
      "23/23 [==============================] - 41s 2s/step - loss: 0.3481 - acc: 0.8261 - val_loss: 0.9117 - val_acc: 0.7500\n",
      "Epoch 29/40\n",
      "23/23 [==============================] - 43s 2s/step - loss: 0.3282 - acc: 0.8478 - val_loss: 0.6856 - val_acc: 0.7500\n",
      "Epoch 30/40\n",
      "23/23 [==============================] - 42s 2s/step - loss: 0.3060 - acc: 0.8913 - val_loss: 0.6555 - val_acc: 0.7500\n",
      "Epoch 31/40\n",
      "23/23 [==============================] - 42s 2s/step - loss: 0.2801 - acc: 0.8913 - val_loss: 0.6583 - val_acc: 0.8333\n",
      "Epoch 32/40\n",
      "23/23 [==============================] - 41s 2s/step - loss: 0.4404 - acc: 0.8043 - val_loss: 0.6562 - val_acc: 0.7500\n",
      "Epoch 33/40\n",
      "23/23 [==============================] - 41s 2s/step - loss: 0.4167 - acc: 0.8043 - val_loss: 0.4596 - val_acc: 0.7500\n",
      "Epoch 34/40\n",
      "23/23 [==============================] - 42s 2s/step - loss: 0.3250 - acc: 0.8478 - val_loss: 0.6356 - val_acc: 0.7500\n",
      "Epoch 35/40\n",
      "23/23 [==============================] - 41s 2s/step - loss: 0.4150 - acc: 0.7826 - val_loss: 0.9093 - val_acc: 0.8333\n",
      "Epoch 36/40\n",
      "23/23 [==============================] - 42s 2s/step - loss: 0.4042 - acc: 0.8261 - val_loss: 1.3999 - val_acc: 0.8333\n",
      "Epoch 37/40\n",
      "23/23 [==============================] - 41s 2s/step - loss: 0.2804 - acc: 0.9348 - val_loss: 2.4486 - val_acc: 0.8333\n",
      "Epoch 38/40\n",
      "23/23 [==============================] - 41s 2s/step - loss: 0.3902 - acc: 0.8043 - val_loss: 1.1602 - val_acc: 0.7500\n",
      "Epoch 39/40\n",
      "23/23 [==============================] - 41s 2s/step - loss: 0.2626 - acc: 0.8696 - val_loss: 0.8610 - val_acc: 0.6667\n",
      "Epoch 40/40\n",
      "23/23 [==============================] - 42s 2s/step - loss: 0.4145 - acc: 0.8696 - val_loss: 0.8575 - val_acc: 0.6667\n"
     ]
    },
    {
     "data": {
      "text/plain": [
       "<tensorflow.python.keras.callbacks.History at 0x28948e5f9a0>"
      ]
     },
     "execution_count": 15,
     "metadata": {},
     "output_type": "execute_result"
    }
   ],
   "source": [
    "model.fit(x=x_train, y=y_train, validation_data = (x_dev,y_dev), epochs=40, batch_size=2)"
   ]
  },
  {
   "cell_type": "code",
   "execution_count": null,
   "metadata": {},
   "outputs": [],
   "source": []
  }
 ],
 "metadata": {
  "kernelspec": {
   "display_name": "Python 3",
   "language": "python",
   "name": "python3"
  },
  "language_info": {
   "codemirror_mode": {
    "name": "ipython",
    "version": 3
   },
   "file_extension": ".py",
   "mimetype": "text/x-python",
   "name": "python",
   "nbconvert_exporter": "python",
   "pygments_lexer": "ipython3",
   "version": "3.8.8"
  }
 },
 "nbformat": 4,
 "nbformat_minor": 4
}
