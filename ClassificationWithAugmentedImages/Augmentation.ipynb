{
 "cells": [
  {
   "cell_type": "code",
   "execution_count": 1,
   "id": "streaming-requirement",
   "metadata": {},
   "outputs": [],
   "source": [
    "from keras.preprocessing.image import ImageDataGenerator\n",
    "from skimage import io \n",
    "import glob \n",
    "import cv2"
   ]
  },
  {
   "cell_type": "code",
   "execution_count": 2,
   "id": "industrial-paper",
   "metadata": {},
   "outputs": [],
   "source": [
    "datagen = ImageDataGenerator(        \n",
    "        rotation_range = 40,\n",
    "        shear_range = 0.2,\n",
    "        zoom_range = 0.2,\n",
    "        horizontal_flip = True,\n",
    "        brightness_range = (0.5, 1.5))"
   ]
  },
  {
   "cell_type": "code",
   "execution_count": 3,
   "id": "passive-special",
   "metadata": {},
   "outputs": [],
   "source": [
    "import numpy as np\n",
    "import os\n",
    "from PIL import Image"
   ]
  },
  {
   "cell_type": "code",
   "execution_count": 4,
   "id": "chemical-senator",
   "metadata": {},
   "outputs": [],
   "source": [
    "image_directory = r'C:/Users/Lenovo/Documents/499/C_aug_images/celldemo/benign/'"
   ]
  },
  {
   "cell_type": "code",
   "execution_count": 5,
   "id": "textile-demand",
   "metadata": {},
   "outputs": [],
   "source": [
    "SIZE = 256\n",
    "dataset = []\n"
   ]
  },
  {
   "cell_type": "code",
   "execution_count": 6,
   "id": "soviet-factor",
   "metadata": {},
   "outputs": [],
   "source": [
    "my_images = os.listdir(image_directory)"
   ]
  },
  {
   "cell_type": "code",
   "execution_count": 7,
   "id": "cross-bobby",
   "metadata": {},
   "outputs": [],
   "source": [
    "for i, image_name in enumerate(my_images):    \n",
    "    if (image_name.split('.')[1] == 'tif'):        \n",
    "        image = io.imread(image_directory + image_name)        \n",
    "        image = Image.fromarray(image, 'RGB')        \n",
    "        image = image.resize((SIZE,SIZE)) \n",
    "        dataset.append(np.array(image))\n",
    "x = np.array(dataset)\n",
    "i = 0\n",
    "for batch in datagen.flow(x, batch_size=20,\n",
    "                          save_to_dir= r'C:\\Users\\Lenovo\\Documents\\499\\C_aug_images\\celldemo\\benign_augmented',\n",
    "                          save_prefix='dr',\n",
    "                          save_format='tif'):    \n",
    "    i += 1    \n",
    "    if i > 19:        \n",
    "        break"
   ]
  },
  {
   "cell_type": "code",
   "execution_count": 8,
   "id": "linear-result",
   "metadata": {},
   "outputs": [],
   "source": [
    "image_directory = r'C:/Users/Lenovo/Documents/499/C_aug_images/celldemo/malignant/'"
   ]
  },
  {
   "cell_type": "code",
   "execution_count": 9,
   "id": "hourly-disorder",
   "metadata": {},
   "outputs": [],
   "source": [
    "SIZE = 256\n",
    "dataset = []\n"
   ]
  },
  {
   "cell_type": "code",
   "execution_count": 10,
   "id": "going-subsection",
   "metadata": {},
   "outputs": [],
   "source": [
    "my_images = os.listdir(image_directory)"
   ]
  },
  {
   "cell_type": "code",
   "execution_count": 11,
   "id": "appropriate-education",
   "metadata": {},
   "outputs": [],
   "source": [
    "for i, image_name in enumerate(my_images):    \n",
    "    if (image_name.split('.')[1] == 'tif'):        \n",
    "        image = io.imread(image_directory + image_name)        \n",
    "        image = Image.fromarray(image, 'RGB')        \n",
    "        image = image.resize((SIZE,SIZE)) \n",
    "        dataset.append(np.array(image))\n",
    "x = np.array(dataset)\n",
    "i = 0\n",
    "for batch in datagen.flow(x, batch_size=20,\n",
    "                          save_to_dir= r'C:\\Users\\Lenovo\\Documents\\499\\C_aug_images\\celldemo\\malignant_augmented',\n",
    "                          save_prefix='dr',\n",
    "                          save_format='tif'):    \n",
    "    i += 1    \n",
    "    if i > 19:        \n",
    "        break"
   ]
  },
  {
   "cell_type": "code",
   "execution_count": null,
   "id": "innocent-drain",
   "metadata": {},
   "outputs": [],
   "source": []
  }
 ],
 "metadata": {
  "kernelspec": {
   "display_name": "Python 3",
   "language": "python",
   "name": "python3"
  },
  "language_info": {
   "codemirror_mode": {
    "name": "ipython",
    "version": 3
   },
   "file_extension": ".py",
   "mimetype": "text/x-python",
   "name": "python",
   "nbconvert_exporter": "python",
   "pygments_lexer": "ipython3",
   "version": "3.8.8"
  }
 },
 "nbformat": 4,
 "nbformat_minor": 5
}
