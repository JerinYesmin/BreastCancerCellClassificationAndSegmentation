{
 "cells": [
  {
   "cell_type": "code",
   "execution_count": 1,
   "metadata": {},
   "outputs": [],
   "source": [
    "%matplotlib inline\n",
    "import matplotlib.pyplot as plt\n",
    "import matplotlib.image as mpimg\n",
    "from keras.preprocessing.image import ImageDataGenerator\n",
    "from keras.models import Sequential\n",
    "from keras.optimizers import RMSprop\n",
    "from keras.layers import Conv2D, MaxPooling2D\n",
    "from keras.layers import Activation, Dropout, Flatten, Dense\n",
    "from keras.callbacks import CSVLogger\n",
    "#from livelossplot import PlotLossesKeras\n",
    "import os\n",
    "import numpy as np\n",
    "#from imgaug import augmenters as iaa\n",
    "import cv2\n",
    "import tensorflow as tf \n",
    "from keras import backend as K \n",
    "import gc \n",
    "from keras.applications import ResNet50,MobileNetV2, DenseNet201, InceptionV3, NASNetLarge, InceptionResNetV2, NASNetMobile\n",
    "from keras import layers \n",
    "from keras.optimizers import Adam \n",
    "from functools import partial\n",
    "from sklearn import metrics\n",
    "from collections import Counter\n",
    "import json\n",
    "import itertools\n",
    "from keras.callbacks import Callback, ModelCheckpoint, ReduceLROnPlateau, TensorBoard \n",
    "from keras.layers.pooling import GlobalAveragePooling2D \n",
    "import keras"
   ]
  },
  {
   "cell_type": "code",
   "execution_count": 2,
   "metadata": {},
   "outputs": [
    {
     "data": {
      "text/plain": [
       "((464, 224, 224, 3), (464,))"
      ]
     },
     "execution_count": 2,
     "metadata": {},
     "output_type": "execute_result"
    }
   ],
   "source": [
    "x_train = np.load(\"x_train_200_no_val.npy\")\n",
    "y_train = np.load(\"y_train_200_no_val.npy\")\n",
    "x_train.shape, y_train.shape"
   ]
  },
  {
   "cell_type": "code",
   "execution_count": 3,
   "metadata": {},
   "outputs": [
    {
     "data": {
      "text/plain": [
       "((116, 224, 224, 3), (116,))"
      ]
     },
     "execution_count": 3,
     "metadata": {},
     "output_type": "execute_result"
    }
   ],
   "source": [
    "x_dev = np.load(\"x_test_200_no_val.npy\")\n",
    "y_dev = np.load(\"y_test_200_no_val.npy\")\n",
    "x_dev.shape, y_dev.shape"
   ]
  },
  {
   "cell_type": "code",
   "execution_count": 4,
   "metadata": {},
   "outputs": [
    {
     "name": "stdout",
     "output_type": "stream",
     "text": [
      "Model: \"sequential\"\n",
      "_________________________________________________________________\n",
      "Layer (type)                 Output Shape              Param #   \n",
      "=================================================================\n",
      "mobilenetv2_1.40_224 (Functi (None, 7, 7, 1792)        4363712   \n",
      "_________________________________________________________________\n",
      "global_average_pooling2d (Gl (None, 1792)              0         \n",
      "_________________________________________________________________\n",
      "preds (Dense)                (None, 1)                 1793      \n",
      "=================================================================\n",
      "Total params: 4,365,505\n",
      "Trainable params: 1,793\n",
      "Non-trainable params: 4,363,712\n",
      "_________________________________________________________________\n"
     ]
    }
   ],
   "source": [
    "num_classes = 1\n",
    "model = Sequential([\n",
    "     MobileNetV2(input_shape=(224,224,3),weights=\"imagenet\",include_top=False, alpha=1.4), \n",
    "     GlobalAveragePooling2D(),\n",
    "     Dense(num_classes, activation='sigmoid',name='preds'),\n",
    "])\n",
    "model.layers[0].trainable= False\n",
    "# show model summary\n",
    "model.summary()"
   ]
  },
  {
   "cell_type": "code",
   "execution_count": 5,
   "metadata": {},
   "outputs": [],
   "source": [
    "model.compile(optimizer='sgd',\n",
    "             loss=keras.losses.binary_crossentropy,\n",
    "             metrics=['accuracy'])\n"
   ]
  },
  {
   "cell_type": "code",
   "execution_count": 6,
   "metadata": {},
   "outputs": [
    {
     "name": "stdout",
     "output_type": "stream",
     "text": [
      "Epoch 1/20\n",
      "232/232 [==============================] - 42s 180ms/step - loss: 1.1646 - accuracy: 0.6401 - val_loss: 0.9797 - val_accuracy: 0.6379\n",
      "Epoch 2/20\n",
      "232/232 [==============================] - 39s 170ms/step - loss: 0.6995 - accuracy: 0.7457 - val_loss: 0.9801 - val_accuracy: 0.7069\n",
      "Epoch 3/20\n",
      "232/232 [==============================] - 40s 171ms/step - loss: 0.5311 - accuracy: 0.7909 - val_loss: 0.6158 - val_accuracy: 0.7759\n",
      "Epoch 4/20\n",
      "232/232 [==============================] - 39s 170ms/step - loss: 0.4088 - accuracy: 0.8470 - val_loss: 0.5054 - val_accuracy: 0.8362\n",
      "Epoch 5/20\n",
      "232/232 [==============================] - 40s 172ms/step - loss: 0.3078 - accuracy: 0.8642 - val_loss: 0.8585 - val_accuracy: 0.7328\n",
      "Epoch 6/20\n",
      "232/232 [==============================] - 40s 173ms/step - loss: 0.2714 - accuracy: 0.8858 - val_loss: 1.0192 - val_accuracy: 0.7328\n",
      "Epoch 7/20\n",
      "232/232 [==============================] - 40s 172ms/step - loss: 0.2512 - accuracy: 0.9095 - val_loss: 0.5862 - val_accuracy: 0.8103\n",
      "Epoch 8/20\n",
      "232/232 [==============================] - 40s 173ms/step - loss: 0.1873 - accuracy: 0.9289 - val_loss: 0.3937 - val_accuracy: 0.8362\n",
      "Epoch 9/20\n",
      "232/232 [==============================] - 40s 173ms/step - loss: 0.1968 - accuracy: 0.9224 - val_loss: 0.4447 - val_accuracy: 0.8534\n",
      "Epoch 10/20\n",
      "232/232 [==============================] - 40s 171ms/step - loss: 0.1572 - accuracy: 0.9353 - val_loss: 0.4209 - val_accuracy: 0.8534\n",
      "Epoch 11/20\n",
      "232/232 [==============================] - 40s 171ms/step - loss: 0.1639 - accuracy: 0.9353 - val_loss: 0.3516 - val_accuracy: 0.8707\n",
      "Epoch 12/20\n",
      "232/232 [==============================] - 40s 172ms/step - loss: 0.1215 - accuracy: 0.9569 - val_loss: 0.7404 - val_accuracy: 0.7241\n",
      "Epoch 13/20\n",
      "232/232 [==============================] - 40s 174ms/step - loss: 0.1032 - accuracy: 0.9698 - val_loss: 0.3793 - val_accuracy: 0.8534\n",
      "Epoch 14/20\n",
      "232/232 [==============================] - 41s 179ms/step - loss: 0.1079 - accuracy: 0.9634 - val_loss: 0.4227 - val_accuracy: 0.8362\n",
      "Epoch 15/20\n",
      "232/232 [==============================] - 40s 174ms/step - loss: 0.1065 - accuracy: 0.9655 - val_loss: 0.3878 - val_accuracy: 0.8448\n",
      "Epoch 16/20\n",
      "232/232 [==============================] - 41s 175ms/step - loss: 0.0748 - accuracy: 0.9763 - val_loss: 0.6151 - val_accuracy: 0.7328\n",
      "Epoch 17/20\n",
      "232/232 [==============================] - 40s 173ms/step - loss: 0.0739 - accuracy: 0.9784 - val_loss: 0.5218 - val_accuracy: 0.8534\n",
      "Epoch 18/20\n",
      "232/232 [==============================] - 41s 176ms/step - loss: 0.0748 - accuracy: 0.9784 - val_loss: 0.3585 - val_accuracy: 0.8879\n",
      "Epoch 19/20\n",
      "232/232 [==============================] - 41s 179ms/step - loss: 0.0623 - accuracy: 0.9871 - val_loss: 0.3978 - val_accuracy: 0.8534\n",
      "Epoch 20/20\n",
      "232/232 [==============================] - 42s 181ms/step - loss: 0.0562 - accuracy: 0.9892 - val_loss: 0.3658 - val_accuracy: 0.8879\n"
     ]
    },
    {
     "data": {
      "text/plain": [
       "<tensorflow.python.keras.callbacks.History at 0x216f47249a0>"
      ]
     },
     "execution_count": 6,
     "metadata": {},
     "output_type": "execute_result"
    }
   ],
   "source": [
    "model.fit(x=x_train, y=y_train, validation_data = (x_dev,y_dev), epochs=20, batch_size=2)"
   ]
  },
  {
   "cell_type": "code",
   "execution_count": null,
   "metadata": {},
   "outputs": [],
   "source": []
  }
 ],
 "metadata": {
  "kernelspec": {
   "display_name": "Python 3",
   "language": "python",
   "name": "python3"
  },
  "language_info": {
   "codemirror_mode": {
    "name": "ipython",
    "version": 3
   },
   "file_extension": ".py",
   "mimetype": "text/x-python",
   "name": "python",
   "nbconvert_exporter": "python",
   "pygments_lexer": "ipython3",
   "version": "3.8.8"
  }
 },
 "nbformat": 4,
 "nbformat_minor": 4
}
