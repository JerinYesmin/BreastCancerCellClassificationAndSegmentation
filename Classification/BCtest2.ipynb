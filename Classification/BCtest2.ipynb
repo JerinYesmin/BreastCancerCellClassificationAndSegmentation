{
 "cells": [
  {
   "cell_type": "code",
   "execution_count": 1,
   "metadata": {},
   "outputs": [
    {
     "name": "stderr",
     "output_type": "stream",
     "text": [
      "Using TensorFlow backend.\n"
     ]
    }
   ],
   "source": [
    "%matplotlib inline\n",
    "import matplotlib.pyplot as plt\n",
    "import matplotlib.image as mpimg\n",
    "from keras.preprocessing.image import ImageDataGenerator\n",
    "from keras.models import Sequential\n",
    "from keras.optimizers import RMSprop\n",
    "from keras.layers import Conv2D, MaxPooling2D\n",
    "from keras.layers import Activation, Dropout, Flatten, Dense\n",
    "from keras.callbacks import CSVLogger\n",
    "#from livelossplot import PlotLossesKeras\n",
    "import os\n",
    "import numpy as np\n",
    "#from imgaug import augmenters as iaa\n",
    "import cv2\n",
    "import tensorflow as tf"
   ]
  },
  {
   "cell_type": "code",
   "execution_count": 2,
   "metadata": {},
   "outputs": [
    {
     "data": {
      "text/plain": [
       "((46, 299, 299, 3), (46,))"
      ]
     },
     "execution_count": 2,
     "metadata": {},
     "output_type": "execute_result"
    }
   ],
   "source": [
    "x_train = np.load(\"x_train_200_no_val.npy\")\n",
    "y_train = np.load(\"y_train_200_no_val.npy\")\n",
    "x_train.shape, y_train.shape"
   ]
  },
  {
   "cell_type": "code",
   "execution_count": 3,
   "metadata": {},
   "outputs": [
    {
     "data": {
      "text/plain": [
       "((12, 299, 299, 3), (12,))"
      ]
     },
     "execution_count": 3,
     "metadata": {},
     "output_type": "execute_result"
    }
   ],
   "source": [
    "x_dev = np.load(\"x_test_200_no_val.npy\")\n",
    "y_dev = np.load(\"y_test_200_no_val.npy\")\n",
    "x_dev.shape, y_dev.shape"
   ]
  },
  {
   "cell_type": "code",
   "execution_count": 4,
   "metadata": {},
   "outputs": [],
   "source": [
    "input_shape = (299, 299, 3)"
   ]
  },
  {
   "cell_type": "code",
   "execution_count": 5,
   "metadata": {},
   "outputs": [],
   "source": [
    "model = None\n",
    "model = Sequential()"
   ]
  },
  {
   "cell_type": "code",
   "execution_count": 6,
   "metadata": {},
   "outputs": [
    {
     "name": "stdout",
     "output_type": "stream",
     "text": [
      "Model: \"sequential_1\"\n",
      "_________________________________________________________________\n",
      "Layer (type)                 Output Shape              Param #   \n",
      "=================================================================\n",
      "conv2d_1 (Conv2D)            (None, 299, 299, 32)      896       \n",
      "_________________________________________________________________\n",
      "conv2d_2 (Conv2D)            (None, 299, 299, 32)      9248      \n",
      "_________________________________________________________________\n",
      "max_pooling2d_1 (MaxPooling2 (None, 149, 149, 32)      0         \n",
      "_________________________________________________________________\n",
      "conv2d_3 (Conv2D)            (None, 149, 149, 64)      18496     \n",
      "_________________________________________________________________\n",
      "conv2d_4 (Conv2D)            (None, 149, 149, 64)      36928     \n",
      "_________________________________________________________________\n",
      "max_pooling2d_2 (MaxPooling2 (None, 74, 74, 64)        0         \n",
      "_________________________________________________________________\n",
      "conv2d_5 (Conv2D)            (None, 74, 74, 128)       73856     \n",
      "_________________________________________________________________\n",
      "conv2d_6 (Conv2D)            (None, 74, 74, 128)       147584    \n",
      "_________________________________________________________________\n",
      "max_pooling2d_3 (MaxPooling2 (None, 37, 37, 128)       0         \n",
      "_________________________________________________________________\n",
      "conv2d_7 (Conv2D)            (None, 37, 37, 256)       295168    \n",
      "_________________________________________________________________\n",
      "conv2d_8 (Conv2D)            (None, 37, 37, 256)       590080    \n",
      "_________________________________________________________________\n",
      "max_pooling2d_4 (MaxPooling2 (None, 18, 18, 256)       0         \n",
      "_________________________________________________________________\n",
      "flatten_1 (Flatten)          (None, 82944)             0         \n",
      "_________________________________________________________________\n",
      "dense_1 (Dense)              (None, 256)               21233920  \n",
      "_________________________________________________________________\n",
      "dropout_1 (Dropout)          (None, 256)               0         \n",
      "_________________________________________________________________\n",
      "dense_2 (Dense)              (None, 256)               65792     \n",
      "_________________________________________________________________\n",
      "dropout_2 (Dropout)          (None, 256)               0         \n",
      "_________________________________________________________________\n",
      "dense_3 (Dense)              (None, 1)                 257       \n",
      "_________________________________________________________________\n",
      "activation_1 (Activation)    (None, 1)                 0         \n",
      "=================================================================\n",
      "Total params: 22,472,225\n",
      "Trainable params: 22,472,225\n",
      "Non-trainable params: 0\n",
      "_________________________________________________________________\n"
     ]
    }
   ],
   "source": [
    "\n",
    "model.add(Conv2D(32, (3, 3), padding='same', input_shape=input_shape, activation='relu'))\n",
    "model.add(Conv2D(32, (3, 3), padding='same', activation='relu'))\n",
    "model.add(MaxPooling2D(pool_size=(2, 2)))\n",
    "\n",
    "model.add(Conv2D(64, (3, 3), padding='same', activation='relu'))\n",
    "model.add(Conv2D(64, (3, 3), padding='same', activation='relu'))\n",
    "model.add(MaxPooling2D(pool_size=(2, 2)))\n",
    "\n",
    "model.add(Conv2D(128, (3, 3), padding='same', activation='relu'))\n",
    "model.add(Conv2D(128, (3, 3), padding='same', activation='relu'))\n",
    "model.add(MaxPooling2D(pool_size=(2, 2)))\n",
    "\n",
    "model.add(Conv2D(256, (3, 3), padding='same', activation='relu'))\n",
    "model.add(Conv2D(256, (3, 3), padding='same', activation='relu'))\n",
    "model.add(MaxPooling2D(pool_size=(2, 2)))\n",
    "\n",
    "model.add(Flatten())\n",
    "model.add(Dense(256, activation='relu'))\n",
    "model.add(Dropout(0.5))\n",
    "\n",
    "model.add(Dense(256, activation='relu'))\n",
    "model.add(Dropout(0.5))\n",
    "\n",
    "model.add(Dense(1))\n",
    "model.add(Activation('sigmoid'))\n",
    "    \n",
    "model.compile(loss='binary_crossentropy',\n",
    "            optimizer=\"adadelta\",\n",
    "            metrics=['accuracy'])\n",
    "\n",
    "model.summary()"
   ]
  },
  {
   "cell_type": "code",
   "execution_count": 7,
   "metadata": {
    "scrolled": true
   },
   "outputs": [
    {
     "name": "stdout",
     "output_type": "stream",
     "text": [
      "Train on 46 samples, validate on 12 samples\n",
      "Epoch 1/30\n",
      "46/46 [==============================] - 44s 947ms/step - loss: 124.0753 - accuracy: 0.5217 - val_loss: 3.4332 - val_accuracy: 0.3333\n",
      "Epoch 2/30\n",
      "46/46 [==============================] - 41s 901ms/step - loss: 1.3723 - accuracy: 0.5435 - val_loss: 0.9606 - val_accuracy: 0.3333\n",
      "Epoch 3/30\n",
      "46/46 [==============================] - 41s 892ms/step - loss: 0.7079 - accuracy: 0.6087 - val_loss: 0.6770 - val_accuracy: 0.6667\n",
      "Epoch 4/30\n",
      "46/46 [==============================] - 39s 855ms/step - loss: 0.7719 - accuracy: 0.4783 - val_loss: 0.7865 - val_accuracy: 0.3333\n",
      "Epoch 5/30\n",
      "46/46 [==============================] - 39s 854ms/step - loss: 0.7002 - accuracy: 0.5870 - val_loss: 0.6995 - val_accuracy: 0.3333\n",
      "Epoch 6/30\n",
      "46/46 [==============================] - 40s 869ms/step - loss: 0.6863 - accuracy: 0.5870 - val_loss: 0.7214 - val_accuracy: 0.3333\n",
      "Epoch 7/30\n",
      "46/46 [==============================] - 43s 943ms/step - loss: 0.8267 - accuracy: 0.6087 - val_loss: 0.6744 - val_accuracy: 0.6667\n",
      "Epoch 8/30\n",
      "46/46 [==============================] - 45s 989ms/step - loss: 0.7214 - accuracy: 0.5435 - val_loss: 0.7059 - val_accuracy: 0.3333\n",
      "Epoch 9/30\n",
      "46/46 [==============================] - 43s 929ms/step - loss: 0.7194 - accuracy: 0.5652 - val_loss: 0.7141 - val_accuracy: 0.3333\n",
      "Epoch 10/30\n",
      "46/46 [==============================] - 43s 931ms/step - loss: 0.6811 - accuracy: 0.6304 - val_loss: 0.7146 - val_accuracy: 0.3333\n",
      "Epoch 11/30\n",
      "46/46 [==============================] - 46s 999ms/step - loss: 0.6931 - accuracy: 0.5435 - val_loss: 0.7138 - val_accuracy: 0.3333\n",
      "Epoch 12/30\n",
      "46/46 [==============================] - 43s 925ms/step - loss: 0.6731 - accuracy: 0.5870 - val_loss: 0.7141 - val_accuracy: 0.3333\n",
      "Epoch 13/30\n",
      "46/46 [==============================] - 46s 1s/step - loss: 0.7003 - accuracy: 0.5870 - val_loss: 0.6580 - val_accuracy: 0.6667\n",
      "Epoch 14/30\n",
      "46/46 [==============================] - 43s 930ms/step - loss: 0.7020 - accuracy: 0.6522 - val_loss: 0.8097 - val_accuracy: 0.3333\n",
      "Epoch 15/30\n",
      "46/46 [==============================] - 47s 1s/step - loss: 0.7968 - accuracy: 0.6304 - val_loss: 0.6928 - val_accuracy: 0.5000\n",
      "Epoch 16/30\n",
      "46/46 [==============================] - 47s 1s/step - loss: 0.6893 - accuracy: 0.6304 - val_loss: 0.8054 - val_accuracy: 0.3333\n",
      "Epoch 17/30\n",
      "46/46 [==============================] - 43s 944ms/step - loss: 0.6951 - accuracy: 0.6304 - val_loss: 0.7334 - val_accuracy: 0.3333\n",
      "Epoch 18/30\n",
      "46/46 [==============================] - 46s 1s/step - loss: 0.6921 - accuracy: 0.5000 - val_loss: 0.7100 - val_accuracy: 0.3333\n",
      "Epoch 19/30\n",
      "46/46 [==============================] - 47s 1s/step - loss: 0.6838 - accuracy: 0.4783 - val_loss: 0.9338 - val_accuracy: 0.3333\n",
      "Epoch 20/30\n",
      "46/46 [==============================] - 41s 900ms/step - loss: 0.5778 - accuracy: 0.6304 - val_loss: 1.8386 - val_accuracy: 0.3333\n",
      "Epoch 21/30\n",
      "46/46 [==============================] - 45s 979ms/step - loss: 0.9590 - accuracy: 0.5435 - val_loss: 0.6670 - val_accuracy: 0.6667\n",
      "Epoch 22/30\n",
      "46/46 [==============================] - 45s 969ms/step - loss: 0.7055 - accuracy: 0.5217 - val_loss: 0.7272 - val_accuracy: 0.3333\n",
      "Epoch 23/30\n",
      "46/46 [==============================] - 45s 979ms/step - loss: 0.6984 - accuracy: 0.6087 - val_loss: 0.7343 - val_accuracy: 0.3333\n",
      "Epoch 24/30\n",
      "46/46 [==============================] - 42s 908ms/step - loss: 0.6843 - accuracy: 0.5435 - val_loss: 0.7119 - val_accuracy: 0.3333\n",
      "Epoch 25/30\n",
      "46/46 [==============================] - 44s 961ms/step - loss: 0.6884 - accuracy: 0.5652 - val_loss: 0.7180 - val_accuracy: 0.3333\n",
      "Epoch 26/30\n",
      "46/46 [==============================] - 46s 1s/step - loss: 0.6619 - accuracy: 0.6087 - val_loss: 0.7364 - val_accuracy: 0.3333\n",
      "Epoch 27/30\n",
      "46/46 [==============================] - 47s 1s/step - loss: 0.6792 - accuracy: 0.6304 - val_loss: 0.7158 - val_accuracy: 0.3333\n",
      "Epoch 28/30\n",
      "46/46 [==============================] - 47s 1s/step - loss: 0.9907 - accuracy: 0.6087 - val_loss: 0.6977 - val_accuracy: 0.3333\n",
      "Epoch 29/30\n",
      "46/46 [==============================] - 45s 972ms/step - loss: 0.7839 - accuracy: 0.5870 - val_loss: 0.7220 - val_accuracy: 0.3333\n",
      "Epoch 30/30\n",
      "46/46 [==============================] - 46s 998ms/step - loss: 0.6828 - accuracy: 0.5652 - val_loss: 0.7285 - val_accuracy: 0.3333\n"
     ]
    },
    {
     "data": {
      "text/plain": [
       "<keras.callbacks.callbacks.History at 0x10891a20>"
      ]
     },
     "execution_count": 7,
     "metadata": {},
     "output_type": "execute_result"
    }
   ],
   "source": [
    "model.fit(x=x_train, y=y_train, validation_data = (x_dev,y_dev), epochs=30, verbose=1,batch_size=8)"
   ]
  },
  {
   "cell_type": "code",
   "execution_count": null,
   "metadata": {},
   "outputs": [],
   "source": []
  }
 ],
 "metadata": {
  "kernelspec": {
   "display_name": "Python 3",
   "language": "python",
   "name": "python3"
  },
  "language_info": {
   "codemirror_mode": {
    "name": "ipython",
    "version": 3
   },
   "file_extension": ".py",
   "mimetype": "text/x-python",
   "name": "python",
   "nbconvert_exporter": "python",
   "pygments_lexer": "ipython3",
   "version": "3.6.12"
  }
 },
 "nbformat": 4,
 "nbformat_minor": 4
}
