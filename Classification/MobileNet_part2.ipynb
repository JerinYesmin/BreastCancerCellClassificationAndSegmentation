{
 "cells": [
  {
   "cell_type": "code",
   "execution_count": 15,
   "metadata": {},
   "outputs": [],
   "source": [
    "%matplotlib inline\n",
    "import matplotlib.pyplot as plt\n",
    "import matplotlib.image as mpimg\n",
    "from keras.preprocessing.image import ImageDataGenerator\n",
    "from keras.models import Sequential\n",
    "from keras.optimizers import RMSprop\n",
    "from keras.layers import Conv2D, MaxPooling2D\n",
    "from keras.layers import Activation, Dropout, Flatten, Dense\n",
    "from keras.callbacks import CSVLogger\n",
    "#from livelossplot import PlotLossesKeras\n",
    "import os\n",
    "import numpy as np\n",
    "#from imgaug import augmenters as iaa\n",
    "import cv2\n",
    "import tensorflow as tf \n",
    "from keras import backend as K \n",
    "import gc \n",
    "from keras.applications import ResNet50,MobileNetV2, DenseNet201, InceptionV3, NASNetLarge, InceptionResNetV2, NASNetMobile\n",
    "from keras import layers \n",
    "from keras.optimizers import Adam \n",
    "from functools import partial\n",
    "from sklearn import metrics\n",
    "from collections import Counter\n",
    "import json\n",
    "import itertools\n",
    "from keras.callbacks import Callback, ModelCheckpoint, ReduceLROnPlateau, TensorBoard \n",
    "from keras.layers.pooling import GlobalAveragePooling2D \n",
    "import keras"
   ]
  },
  {
   "cell_type": "code",
   "execution_count": 16,
   "metadata": {},
   "outputs": [
    {
     "data": {
      "text/plain": [
       "((46, 224, 224, 3), (46,))"
      ]
     },
     "execution_count": 16,
     "metadata": {},
     "output_type": "execute_result"
    }
   ],
   "source": [
    "x_train = np.load(\"x_train_200_no_val.npy\")\n",
    "y_train = np.load(\"y_train_200_no_val.npy\")\n",
    "x_train.shape, y_train.shape"
   ]
  },
  {
   "cell_type": "code",
   "execution_count": 17,
   "metadata": {},
   "outputs": [
    {
     "data": {
      "text/plain": [
       "((12, 224, 224, 3), (12,))"
      ]
     },
     "execution_count": 17,
     "metadata": {},
     "output_type": "execute_result"
    }
   ],
   "source": [
    "x_dev = np.load(\"x_test_200_no_val.npy\")\n",
    "y_dev = np.load(\"y_test_200_no_val.npy\")\n",
    "x_dev.shape, y_dev.shape"
   ]
  },
  {
   "cell_type": "code",
   "execution_count": 22,
   "metadata": {},
   "outputs": [
    {
     "name": "stdout",
     "output_type": "stream",
     "text": [
      "Downloading data from https://storage.googleapis.com/tensorflow/keras-applications/mobilenet_v2/mobilenet_v2_weights_tf_dim_ordering_tf_kernels_1.4_224_no_top.h5\n",
      "17833984/17831080 [==============================] - 8s 0us/step\n",
      "Model: \"sequential_2\"\n",
      "_________________________________________________________________\n",
      "Layer (type)                 Output Shape              Param #   \n",
      "=================================================================\n",
      "mobilenetv2_1.40_224 (Functi (None, 7, 7, 1792)        4363712   \n",
      "_________________________________________________________________\n",
      "global_average_pooling2d_2 ( (None, 1792)              0         \n",
      "_________________________________________________________________\n",
      "preds (Dense)                (None, 1)                 1793      \n",
      "=================================================================\n",
      "Total params: 4,365,505\n",
      "Trainable params: 1,793\n",
      "Non-trainable params: 4,363,712\n",
      "_________________________________________________________________\n"
     ]
    }
   ],
   "source": [
    "num_classes = 1\n",
    "model = Sequential([\n",
    "     MobileNetV2(input_shape=(224,224,3),weights=\"imagenet\",include_top=False, alpha=1.4), \n",
    "     GlobalAveragePooling2D(),\n",
    "     Dense(num_classes, activation='sigmoid',name='preds'),\n",
    "])\n",
    "model.layers[0].trainable= False\n",
    "# show model summary\n",
    "model.summary()"
   ]
  },
  {
   "cell_type": "code",
   "execution_count": 23,
   "metadata": {},
   "outputs": [],
   "source": [
    "model.compile(optimizer='sgd',\n",
    "             loss=keras.losses.binary_crossentropy,\n",
    "             metrics=['accuracy'])\n"
   ]
  },
  {
   "cell_type": "code",
   "execution_count": null,
   "metadata": {},
   "outputs": [
    {
     "name": "stdout",
     "output_type": "stream",
     "text": [
      "Epoch 1/20\n",
      "23/23 [==============================] - 12s 506ms/step - loss: 1.3682 - accuracy: 0.5652 - val_loss: 0.7025 - val_accuracy: 0.6667\n",
      "Epoch 2/20\n",
      "23/23 [==============================] - 8s 360ms/step - loss: 1.4686 - accuracy: 0.5217 - val_loss: 2.5490 - val_accuracy: 0.3333\n",
      "Epoch 3/20\n",
      "23/23 [==============================] - 8s 358ms/step - loss: 0.6713 - accuracy: 0.8043 - val_loss: 2.5307 - val_accuracy: 0.3333\n",
      "Epoch 4/20\n",
      "23/23 [==============================] - 8s 367ms/step - loss: 0.7223 - accuracy: 0.7826 - val_loss: 3.5810 - val_accuracy: 0.3333\n",
      "Epoch 5/20\n",
      "23/23 [==============================] - 9s 375ms/step - loss: 0.6912 - accuracy: 0.7609 - val_loss: 4.4834 - val_accuracy: 0.3333\n",
      "Epoch 6/20\n",
      "23/23 [==============================] - 8s 367ms/step - loss: 0.5283 - accuracy: 0.8478 - val_loss: 1.6439 - val_accuracy: 0.3333\n",
      "Epoch 7/20\n",
      "23/23 [==============================] - 8s 363ms/step - loss: 0.4557 - accuracy: 0.8043 - val_loss: 2.4223 - val_accuracy: 0.3333\n",
      "Epoch 8/20\n",
      "23/23 [==============================] - 8s 364ms/step - loss: 0.2665 - accuracy: 0.8696 - val_loss: 2.3638 - val_accuracy: 0.2500\n",
      "Epoch 9/20\n",
      "23/23 [==============================] - 8s 350ms/step - loss: 0.2466 - accuracy: 0.8913 - val_loss: 1.5170 - val_accuracy: 0.4167\n",
      "Epoch 10/20\n",
      "23/23 [==============================] - 8s 369ms/step - loss: 0.2047 - accuracy: 0.8913 - val_loss: 0.7548 - val_accuracy: 0.7500\n",
      "Epoch 11/20\n",
      "23/23 [==============================] - 8s 369ms/step - loss: 0.2082 - accuracy: 0.9130 - val_loss: 1.9322 - val_accuracy: 0.3333\n",
      "Epoch 12/20\n",
      "23/23 [==============================] - 9s 379ms/step - loss: 0.3504 - accuracy: 0.8478 - val_loss: 1.3025 - val_accuracy: 0.4167\n",
      "Epoch 13/20\n",
      "23/23 [==============================] - 8s 335ms/step - loss: 0.1954 - accuracy: 0.9348 - val_loss: 2.0771 - val_accuracy: 0.3333\n",
      "Epoch 14/20\n",
      "23/23 [==============================] - 8s 355ms/step - loss: 0.0864 - accuracy: 1.0000 - val_loss: 1.9528 - val_accuracy: 0.3333\n",
      "Epoch 15/20\n",
      "23/23 [==============================] - 8s 342ms/step - loss: 0.1314 - accuracy: 0.9565 - val_loss: 1.2371 - val_accuracy: 0.5000\n",
      "Epoch 16/20\n",
      "23/23 [==============================] - 8s 341ms/step - loss: 0.1046 - accuracy: 0.9783 - val_loss: 1.7817 - val_accuracy: 0.4167\n",
      "Epoch 17/20\n",
      "23/23 [==============================] - 8s 354ms/step - loss: 0.1163 - accuracy: 0.9565 - val_loss: 0.8076 - val_accuracy: 0.7500\n",
      "Epoch 18/20\n",
      "23/23 [==============================] - 8s 348ms/step - loss: 0.1749 - accuracy: 0.9348 - val_loss: 1.3165 - val_accuracy: 0.5000\n",
      "Epoch 19/20\n",
      "23/23 [==============================] - ETA: 0s - loss: 0.0859 - accuracy: 0.9783"
     ]
    }
   ],
   "source": [
    "model.fit(x=x_train, y=y_train, validation_data = (x_dev,y_dev), epochs=20, batch_size=2)"
   ]
  },
  {
   "cell_type": "code",
   "execution_count": null,
   "metadata": {},
   "outputs": [],
   "source": []
  }
 ],
 "metadata": {
  "kernelspec": {
   "display_name": "Python 3",
   "language": "python",
   "name": "python3"
  },
  "language_info": {
   "codemirror_mode": {
    "name": "ipython",
    "version": 3
   },
   "file_extension": ".py",
   "mimetype": "text/x-python",
   "name": "python",
   "nbconvert_exporter": "python",
   "pygments_lexer": "ipython3",
   "version": "3.8.8"
  }
 },
 "nbformat": 4,
 "nbformat_minor": 4
}
